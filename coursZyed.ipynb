{
 "cells": [
  {
   "cell_type": "markdown",
   "metadata": {},
   "source": [
    "## Manipulation de donnée JSON"
   ]
  },
  {
   "cell_type": "code",
   "execution_count": 11,
   "metadata": {},
   "outputs": [],
   "source": [
    "import json"
   ]
  },
  {
   "cell_type": "code",
   "execution_count": 12,
   "metadata": {},
   "outputs": [
    {
     "ename": "FileNotFoundError",
     "evalue": "[Errno 2] No such file or directory: 'courses.json'",
     "output_type": "error",
     "traceback": [
      "\u001b[1;31m---------------------------------------------------------------------------\u001b[0m",
      "\u001b[1;31mFileNotFoundError\u001b[0m                         Traceback (most recent call last)",
      "\u001b[1;32m<ipython-input-12-50639203bd3e>\u001b[0m in \u001b[0;36m<module>\u001b[1;34m\u001b[0m\n\u001b[0;32m      2\u001b[0m \u001b[0mfilePath\u001b[0m \u001b[1;33m=\u001b[0m \u001b[1;34m\"courses.json\"\u001b[0m\u001b[1;33m\u001b[0m\u001b[1;33m\u001b[0m\u001b[0m\n\u001b[0;32m      3\u001b[0m \u001b[1;33m\u001b[0m\u001b[0m\n\u001b[1;32m----> 4\u001b[1;33m \u001b[1;32mwith\u001b[0m \u001b[0mopen\u001b[0m\u001b[1;33m(\u001b[0m\u001b[0mfilePath\u001b[0m\u001b[1;33m,\u001b[0m \u001b[1;34m'r'\u001b[0m\u001b[1;33m)\u001b[0m \u001b[1;32mas\u001b[0m \u001b[0mf\u001b[0m\u001b[1;33m:\u001b[0m\u001b[1;33m\u001b[0m\u001b[1;33m\u001b[0m\u001b[0m\n\u001b[0m\u001b[0;32m      5\u001b[0m     \u001b[0mdatastore\u001b[0m \u001b[1;33m=\u001b[0m \u001b[0mjson\u001b[0m\u001b[1;33m.\u001b[0m\u001b[0mload\u001b[0m\u001b[1;33m(\u001b[0m\u001b[0mf\u001b[0m\u001b[1;33m)\u001b[0m\u001b[1;33m\u001b[0m\u001b[1;33m\u001b[0m\u001b[0m\n",
      "\u001b[1;31mFileNotFoundError\u001b[0m: [Errno 2] No such file or directory: 'courses.json'"
     ]
    }
   ],
   "source": [
    "# import du fichier JSON \n",
    "filePath = \"courses.json\"\n",
    "\n",
    "with open(filePath, 'r') as f:\n",
    "    datastore = json.load(f)"
   ]
  },
  {
   "cell_type": "markdown",
   "metadata": {},
   "source": [
    "### Visualisation des données"
   ]
  },
  {
   "cell_type": "code",
   "execution_count": 3,
   "metadata": {},
   "outputs": [
    {
     "data": {
      "text/plain": [
       "216"
      ]
     },
     "execution_count": 3,
     "metadata": {},
     "output_type": "execute_result"
    }
   ],
   "source": [
    "# Taille \n",
    "len(datastore)"
   ]
  },
  {
   "cell_type": "markdown",
   "metadata": {},
   "source": [
    "Ce fichier de JSON est dans un fonction de liste de le dictionnaire, chaque index de la liste est une unité de donnée comme le serait une ligne d'un dataframe"
   ]
  },
  {
   "cell_type": "code",
   "execution_count": 4,
   "metadata": {
    "scrolled": true
   },
   "outputs": [
    {
     "data": {
      "text/plain": [
       "[{'FIELD1': 1,\n",
       "  'Nom': 'DAVIDSON DU PONT',\n",
       "  'DateRXCX': 'GRAND PRIX DE BELGIQUER1C42020',\n",
       "  'Old Date': '12/01/2020',\n",
       "  'RXCX': 'R1C4',\n",
       "  'Partant': 10,\n",
       "  'A': {'M': 'AttelÃ©'},\n",
       "  'Course trackÃ©es': 'GRAND PRIX DE BELGIQUE',\n",
       "  'Site': 'VIN',\n",
       "  'Classement': '3',\n",
       "  'Parcours': '2850GP',\n",
       "  'Type de dÃ©part': 'NA',\n",
       "  'Nombre de partants': 15},\n",
       " {'FIELD1': 1,\n",
       "  'Nom': 'DAVIDSON DU PONT',\n",
       "  'DateRXCX': 'GRAND PRIX DE BOURGOGNER1C42019',\n",
       "  'Old Date': '29/12/2019',\n",
       "  'RXCX': 'R1C4',\n",
       "  'Partant': 5,\n",
       "  'A': {'M': 'AttelÃ©'},\n",
       "  'Course trackÃ©es': 'GRAND PRIX DE BOURGOGNE',\n",
       "  'Site': 'VIN',\n",
       "  'Classement': '10',\n",
       "  'Parcours': '2100GP',\n",
       "  'Type de dÃ©part': 'Autostart',\n",
       "  'Nombre de partants': 17},\n",
       " {'FIELD1': 1,\n",
       "  'Nom': 'DAVIDSON DU PONT',\n",
       "  'DateRXCX': 'GRAND PRIX DU BOURBONNAISR1C42019',\n",
       "  'Old Date': '08/12/2019',\n",
       "  'RXCX': 'R1C4',\n",
       "  'Partant': 9,\n",
       "  'A': {'M': 'AttelÃ©'},\n",
       "  'Course trackÃ©es': 'GRAND PRIX DU BOURBONNAIS',\n",
       "  'Site': 'VIN',\n",
       "  'Classement': '12',\n",
       "  'Parcours': '2850GP',\n",
       "  'Type de dÃ©part': 'NA',\n",
       "  'Nombre de partants': 18}]"
      ]
     },
     "execution_count": 4,
     "metadata": {},
     "output_type": "execute_result"
    }
   ],
   "source": [
    "# affichage des 3 premières lignes\n",
    "datastore[:3]"
   ]
  },
  {
   "cell_type": "code",
   "execution_count": 49,
   "metadata": {},
   "outputs": [
    {
     "data": {
      "text/plain": [
       "['FIELD1',\n",
       " 'Nom',\n",
       " 'DateRXCX',\n",
       " 'Old Date',\n",
       " 'RXCX',\n",
       " 'Partant',\n",
       " 'A',\n",
       " 'Site',\n",
       " 'Classement',\n",
       " 'Parcours',\n",
       " 'Nombre de partants',\n",
       " 'Course trackes',\n",
       " 'Type de depart']"
      ]
     },
     "execution_count": 49,
     "metadata": {},
     "output_type": "execute_result"
    }
   ],
   "source": [
    "# affichage des clés d'un dictionnaire (on suposse que ce sont les mêmes pour toutes les données)\n",
    "listeKey = list(datastore[0].keys())\n",
    "listeKey"
   ]
  },
  {
   "cell_type": "code",
   "execution_count": 50,
   "metadata": {
    "scrolled": true
   },
   "outputs": [
    {
     "name": "stdout",
     "output_type": "stream",
     "text": [
      "DAVIDSON DU PONT\n",
      "DAVIDSON DU PONT\n",
      "DAVIDSON DU PONT\n",
      "DAVIDSON DU PONT\n",
      "DAVIDSON DU PONT\n",
      "DAVIDSON DU PONT\n",
      "DAVIDSON DU PONT\n",
      "DAVIDSON DU PONT\n",
      "DAVIDSON DU PONT\n",
      "DAVIDSON DU PONT\n",
      "DAVIDSON DU PONT\n",
      "DAVIDSON DU PONT\n",
      "DAVIDSON DU PONT\n",
      "CHICA DE JOUDES\n",
      "CHICA DE JOUDES\n",
      "CHICA DE JOUDES\n",
      "CHICA DE JOUDES\n",
      "CHICA DE JOUDES\n",
      "CHICA DE JOUDES\n",
      "CHICA DE JOUDES\n",
      "CHICA DE JOUDES\n",
      "CHICA DE JOUDES\n",
      "CHICA DE JOUDES\n",
      "CHICA DE JOUDES\n",
      "CHICA DE JOUDES\n",
      "CHICA DE JOUDES\n",
      "CHICA DE JOUDES\n",
      "LOOKING SUPERB\n",
      "LOOKING SUPERB\n",
      "LOOKING SUPERB\n",
      "LOOKING SUPERB\n",
      "LOOKING SUPERB\n",
      "LOOKING SUPERB\n",
      "LOOKING SUPERB\n",
      "LOOKING SUPERB\n",
      "LOOKING SUPERB\n",
      "LOOKING SUPERB\n",
      "LOOKING SUPERB\n",
      "LOOKING SUPERB\n",
      "LOOKING SUPERB\n",
      "LOOKING SUPERB\n",
      "LOOKING SUPERB\n",
      "LOOKING SUPERB\n",
      "DELIA DU POMMEREUX\n",
      "DELIA DU POMMEREUX\n",
      "DELIA DU POMMEREUX\n",
      "DELIA DU POMMEREUX\n",
      "DELIA DU POMMEREUX\n",
      "DELIA DU POMMEREUX\n",
      "DELIA DU POMMEREUX\n",
      "DELIA DU POMMEREUX\n",
      "DELIA DU POMMEREUX\n",
      "DELIA DU POMMEREUX\n",
      "DELIA DU POMMEREUX\n",
      "DELIA DU POMMEREUX\n",
      "DELIA DU POMMEREUX\n",
      "DELIA DU POMMEREUX\n",
      "BOLD EAGLE\n",
      "BOLD EAGLE\n",
      "BOLD EAGLE\n",
      "BOLD EAGLE\n",
      "BOLD EAGLE\n",
      "BOLD EAGLE\n",
      "BOLD EAGLE\n",
      "BOLD EAGLE\n",
      "BOLD EAGLE\n",
      "BILLIE DE MONTFORT\n",
      "BILLIE DE MONTFORT\n",
      "BILLIE DE MONTFORT\n",
      "BILLIE DE MONTFORT\n",
      "BILLIE DE MONTFORT\n",
      "BILLIE DE MONTFORT\n",
      "BILLIE DE MONTFORT\n",
      "FACE TIME BOURBON\n",
      "FACE TIME BOURBON\n",
      "FACE TIME BOURBON\n",
      "FACE TIME BOURBON\n",
      "FACE TIME BOURBON\n",
      "FACE TIME BOURBON\n",
      "FACE TIME BOURBON\n",
      "FACE TIME BOURBON\n",
      "FACE TIME BOURBON\n",
      "FACE TIME BOURBON\n",
      "EXCELLENT\n",
      "EXCELLENT\n",
      "EXCELLENT\n",
      "EXCELLENT\n",
      "EXCELLENT\n",
      "EXCELLENT\n",
      "EXCELLENT\n",
      "EXCELLENT\n",
      "EXCELLENT\n",
      "EXCELLENT\n",
      "EXCELLENT\n",
      "EXCELLENT\n",
      "EXCELLENT\n",
      "EXCELLENT\n",
      "EXCELLENT\n",
      "EXCELLENT\n",
      "BAHIA QUESNOT\n",
      "BAHIA QUESNOT\n",
      "BAHIA QUESNOT\n",
      "BAHIA QUESNOT\n",
      "BAHIA QUESNOT\n",
      "BAHIA QUESNOT\n",
      "BAHIA QUESNOT\n",
      "BAHIA QUESNOT\n",
      "BAHIA QUESNOT\n",
      "BAHIA QUESNOT\n",
      "VIVID WISE AS\n",
      "VIVID WISE AS\n",
      "VIVID WISE AS\n",
      "VIVID WISE AS\n",
      "VIVID WISE AS\n",
      "VIVID WISE AS\n",
      "VIVID WISE AS\n",
      "PROPULSION\n",
      "PROPULSION\n",
      "BELINA JOSSELYN\n",
      "BELINA JOSSELYN\n",
      "BELINA JOSSELYN\n",
      "BELINA JOSSELYN\n",
      "BELINA JOSSELYN\n",
      "BELINA JOSSELYN\n",
      "BELINA JOSSELYN\n",
      "BELINA JOSSELYN\n",
      "BELINA JOSSELYN\n",
      "BELINA JOSSELYN\n",
      "BELINA JOSSELYN\n",
      "BELINA JOSSELYN\n",
      "BELINA JOSSELYN\n",
      "RINGOSTARR TREB\n",
      "UZA JOSSELYN\n",
      "UZA JOSSELYN\n",
      "UZA JOSSELYN\n",
      "UZA JOSSELYN\n",
      "UZA JOSSELYN\n",
      "UZA JOSSELYN\n",
      "UZA JOSSELYN\n",
      "UZA JOSSELYN\n",
      "UZA JOSSELYN\n",
      "UZA JOSSELYN\n",
      "UZA JOSSELYN\n",
      "UZA JOSSELYN\n",
      "ENINO DU POMMEREUX\n",
      "ENINO DU POMMEREUX\n",
      "ENINO DU POMMEREUX\n",
      "ENINO DU POMMEREUX\n",
      "ENINO DU POMMEREUX\n",
      "ENINO DU POMMEREUX\n",
      "ENINO DU POMMEREUX\n",
      "ENINO DU POMMEREUX\n",
      "ENINO DU POMMEREUX\n",
      "ENINO DU POMMEREUX\n",
      "ENINO DU POMMEREUX\n",
      "ENINO DU POMMEREUX\n",
      "ENINO DU POMMEREUX\n",
      "ENINO DU POMMEREUX\n",
      "ENINO DU POMMEREUX\n",
      "ERMINIG D'OLIVERIE\n",
      "ERMINIG D'OLIVERIE\n",
      "ERMINIG D'OLIVERIE\n",
      "ERMINIG D'OLIVERIE\n",
      "ERMINIG D'OLIVERIE\n",
      "ERMINIG D'OLIVERIE\n",
      "ERMINIG D'OLIVERIE\n",
      "ERMINIG D'OLIVERIE\n",
      "ERMINIG D'OLIVERIE\n",
      "ERMINIG D'OLIVERIE\n",
      "ERMINIG D'OLIVERIE\n",
      "VITRUVIO\n",
      "VITRUVIO\n",
      "VITRUVIO\n",
      "VITRUVIO\n",
      "VITRUVIO\n",
      "MILLIGAN'S SCHOOL\n",
      "CARAT WILLIAMS\n",
      "CARAT WILLIAMS\n",
      "CARAT WILLIAMS\n",
      "CARAT WILLIAMS\n",
      "CARAT WILLIAMS\n",
      "CARAT WILLIAMS\n",
      "CARAT WILLIAMS\n",
      "CARAT WILLIAMS\n",
      "CARAT WILLIAMS\n",
      "CARAT WILLIAMS\n",
      "CARAT WILLIAMS\n",
      "CARAT WILLIAMS\n",
      "CARAT WILLIAMS\n",
      "CARAT WILLIAMS\n",
      "CARAT WILLIAMS\n",
      "DIJON\n",
      "DIJON\n",
      "DIJON\n",
      "DIJON\n",
      "DIJON\n",
      "TONY GIO\n",
      "TONY GIO\n",
      "TONY GIO\n",
      "TONY GIO\n",
      "TONY GIO\n",
      "TONY GIO\n",
      "TONY GIO\n",
      "TONY GIO\n",
      "TONY GIO\n",
      "TONY GIO\n",
      "TONY GIO\n",
      "TONY GIO\n",
      "EARL SIMON\n",
      "EARL SIMON\n",
      "EARL SIMON\n",
      "EARL SIMON\n",
      "EARL SIMON\n",
      "EARL SIMON\n",
      "EARL SIMON\n",
      "EARL SIMON\n"
     ]
    }
   ],
   "source": [
    "# affichage de toutes les données d'une clé ('Nom', 'A' , Parcours)\n",
    "keyName = \"Nom\"\n",
    "for dataLigne in datastore:\n",
    "    print(dataLigne[keyName])"
   ]
  },
  {
   "cell_type": "code",
   "execution_count": 47,
   "metadata": {},
   "outputs": [
    {
     "data": {
      "text/plain": [
       "{'BAHIA QUESNOT',\n",
       " 'BELINA JOSSELYN',\n",
       " 'BILLIE DE MONTFORT',\n",
       " 'BOLD EAGLE',\n",
       " 'CARAT WILLIAMS',\n",
       " 'CHICA DE JOUDES',\n",
       " 'DAVIDSON DU PONT',\n",
       " 'DELIA DU POMMEREUX',\n",
       " 'DIJON',\n",
       " 'EARL SIMON',\n",
       " 'ENINO DU POMMEREUX',\n",
       " \"ERMINIG D'OLIVERIE\",\n",
       " 'EXCELLENT',\n",
       " 'FACE TIME BOURBON',\n",
       " 'LOOKING SUPERB',\n",
       " \"MILLIGAN'S SCHOOL\",\n",
       " 'PROPULSION',\n",
       " 'RINGOSTARR TREB',\n",
       " 'TONY GIO',\n",
       " 'UZA JOSSELYN',\n",
       " 'VITRUVIO',\n",
       " 'VIVID WISE AS'}"
      ]
     },
     "execution_count": 47,
     "metadata": {},
     "output_type": "execute_result"
    }
   ],
   "source": [
    "# Pour éviter d'avoir des valeurs qui se répète, on peut utiliser un set\n",
    "keyName = \"Nom\" \n",
    "set([dataLigne[keyName] for dataLigne in datastore])"
   ]
  },
  {
   "cell_type": "code",
   "execution_count": 55,
   "metadata": {},
   "outputs": [
    {
     "name": "stdout",
     "output_type": "stream",
     "text": [
      "['FIELD1', 'Nom', 'DateRXCX', 'Old Date', 'RXCX', 'Partant', 'Course trackÃ©es', 'Site', 'Classement', 'Parcours', 'Type de dÃ©part', 'Nombre de partants']\n"
     ]
    }
   ],
   "source": [
    "# la clé \"A\" est particulière car une contient un dictionnaire, sa valeur est toujours la même, je la retire\n",
    "listeKey.remove(\"A\")\n",
    "print(listeKey)"
   ]
  },
  {
   "cell_type": "code",
   "execution_count": 52,
   "metadata": {
    "scrolled": false
   },
   "outputs": [
    {
     "name": "stdout",
     "output_type": "stream",
     "text": [
      "Nbre d'élément pour : FIELD1, 22\n",
      "Nbre d'élément pour : Nom, 22\n",
      "Nbre d'élément pour : DateRXCX, 74\n",
      "Nbre d'élément pour : Old Date, 59\n",
      "Nbre d'élément pour : RXCX, 13\n",
      "Nbre d'élément pour : Partant, 18\n",
      "Nbre d'élément pour : A, 0\n",
      "Nbre d'élément pour : Site, 1\n",
      "Nbre d'élément pour : Classement, 17\n",
      "Nbre d'élément pour : Parcours, 11\n",
      "Nbre d'élément pour : Nombre de partants, 13\n",
      "Nbre d'élément pour : Course trackes, 64\n",
      "Nbre d'élément pour : Type de depart, 2\n"
     ]
    }
   ],
   "source": [
    "# J'affiche le nombre de valeur unique par clé\n",
    "for key in listeKey: \n",
    "    print( f\"Nbre d'élément pour : {key}, {str(len(set([x[key] for x in datastore if type(x[key]) != dict])))}\")"
   ]
  },
  {
   "cell_type": "code",
   "execution_count": 59,
   "metadata": {},
   "outputs": [
    {
     "name": "stdout",
     "output_type": "stream",
     "text": [
      "131\n"
     ]
    }
   ],
   "source": [
    "# Je cherche ligne particulière à partir d'une clé et d'une valeur\n",
    "key= \"Nom\"\n",
    "value=\"RINGOSTARR TREB\"\n",
    "\n",
    "for index, dataLigne in enumerate(datastore):\n",
    "    if dataLigne[key] == value:\n",
    "        print(index)"
   ]
  },
  {
   "cell_type": "code",
   "execution_count": 60,
   "metadata": {},
   "outputs": [
    {
     "data": {
      "text/plain": [
       "{'FIELD1': 13,\n",
       " 'Nom': 'RINGOSTARR TREB',\n",
       " 'DateRXCX': 'GRAND PRIX DE BOURGOGNER1C42019',\n",
       " 'Old Date': '29/12/2019',\n",
       " 'RXCX': 'R1C4',\n",
       " 'Partant': 6,\n",
       " 'A': {'M': 'AttelÃ©'},\n",
       " 'Course trackÃ©es': 'GRAND PRIX DE BOURGOGNE',\n",
       " 'Site': 'VIN',\n",
       " 'Classement': 'DA',\n",
       " 'Parcours': '2100GP',\n",
       " 'Type de dÃ©part': 'Autostart',\n",
       " 'Nombre de partants': 17}"
      ]
     },
     "execution_count": 60,
     "metadata": {},
     "output_type": "execute_result"
    }
   ],
   "source": [
    "datastore[131]"
   ]
  },
  {
   "cell_type": "code",
   "execution_count": 61,
   "metadata": {},
   "outputs": [],
   "source": [
    "# je récupère les listes des noms et des courses dans les variable \n",
    "nomsList = list(set([x['Nom'] for x in datastore]))\n",
    "coursesTrackList = list(set([x['Course trackÃ©es'] for x in datastore]))"
   ]
  },
  {
   "cell_type": "markdown",
   "metadata": {},
   "source": [
    "### Nettoyage JSON "
   ]
  },
  {
   "cell_type": "code",
   "execution_count": 75,
   "metadata": {},
   "outputs": [
    {
     "data": {
      "text/plain": [
       "['RXCX',\n",
       " 'A',\n",
       " 'DateRXCX',\n",
       " 'Partant',\n",
       " 'FIELD1',\n",
       " 'Site',\n",
       " 'Course trackes',\n",
       " 'Nom',\n",
       " 'Nombre de partants',\n",
       " 'Old Date',\n",
       " 'Parcours',\n",
       " 'Classement',\n",
       " 'Type de depart']"
      ]
     },
     "execution_count": 75,
     "metadata": {},
     "output_type": "execute_result"
    }
   ],
   "source": [
    "def AllKey(listOfDict):\n",
    "    \"\"\"\n",
    "    return all keys from the listOfDict\n",
    "    \"\"\"\n",
    "    \n",
    "    res = []\n",
    "    for oneDict in listOfDict:\n",
    "        res.extend(oneDict.keys())\n",
    "        \n",
    "    return list(set(res))\n",
    "AllKey(datastore)"
   ]
  },
  {
   "cell_type": "code",
   "execution_count": 92,
   "metadata": {},
   "outputs": [
    {
     "data": {
      "text/plain": [
       "['BELINA JOSSELYN',\n",
       " 'ENINO DU POMMEREUX',\n",
       " 'DIJON',\n",
       " 'VITRUVIO',\n",
       " 'BOLD EAGLE',\n",
       " 'BILLIE DE MONTFORT',\n",
       " 'EXCELLENT',\n",
       " 'RINGOSTARR TREB',\n",
       " 'DAVIDSON DU PONT',\n",
       " 'CARAT WILLIAMS',\n",
       " 'VIVID WISE AS',\n",
       " 'PROPULSION',\n",
       " 'CHICA DE JOUDES',\n",
       " \"ERMINIG D'OLIVERIE\",\n",
       " 'FACE TIME BOURBON',\n",
       " \"MILLIGAN'S SCHOOL\",\n",
       " 'LOOKING SUPERB',\n",
       " 'EARL SIMON',\n",
       " 'UZA JOSSELYN',\n",
       " 'BAHIA QUESNOT',\n",
       " 'DELIA DU POMMEREUX',\n",
       " 'TONY GIO']"
      ]
     },
     "execution_count": 92,
     "metadata": {},
     "output_type": "execute_result"
    }
   ],
   "source": [
    "def uniqueValues(listOfDict, keyName):\n",
    "    \"\"\"\n",
    "    return a list of unique values\n",
    "    \"\"\"\n",
    "    # que faire si keyName n'est pas dans tous les dict\n",
    "    \n",
    "    return list(set([oneDict[keyName] for oneDict in listOfDict if type(oneDict[keyName]) in [int, str]]))\n",
    "\n",
    "uniqueValues(datastore, 'Nom')"
   ]
  },
  {
   "cell_type": "code",
   "execution_count": 118,
   "metadata": {
    "scrolled": true
   },
   "outputs": [],
   "source": [
    "def renamekey(listOfDict, oldKey, newKey):\n",
    "    \"\"\"Change keys for all document\n",
    "        \n",
    "        take : list of dict, oldKey, newKey\n",
    "        return : list of dict\n",
    "    \"\"\"\n",
    "    for dic in listOfDict:\n",
    "        if oldKey in dic.keys():\n",
    "            dic[newKey] = dic.pop(oldKey)\n",
    "            \n",
    "    return listOfDict\n",
    "\n",
    "datastore = renamekey(datastore, \"Course trackÃ©es\", \"Course trackes\")\n",
    "datastore = renamekey(datastore, \"Type de dÃ©part\", \"Type de depart\")\n",
    "#datastore[:3]"
   ]
  },
  {
   "cell_type": "code",
   "execution_count": 90,
   "metadata": {},
   "outputs": [
    {
     "data": {
      "text/plain": [
       "[\"Si le nombre d'élément 0, vérifier le type du champ\",\n",
       " \"Nbre d'élément pour : RXCX, 13\",\n",
       " \"Nbre d'élément pour : A, 0\",\n",
       " \"Nbre d'élément pour : DateRXCX, 74\",\n",
       " \"Nbre d'élément pour : Partant, 18\",\n",
       " \"Nbre d'élément pour : FIELD1, 22\",\n",
       " \"Nbre d'élément pour : Site, 1\",\n",
       " \"Nbre d'élément pour : Course trackes, 64\",\n",
       " \"Nbre d'élément pour : Nom, 22\",\n",
       " \"Nbre d'élément pour : Nombre de partants, 13\",\n",
       " \"Nbre d'élément pour : Old Date, 59\",\n",
       " \"Nbre d'élément pour : Parcours, 11\",\n",
       " \"Nbre d'élément pour : Classement, 17\",\n",
       " \"Nbre d'élément pour : Type de depart, 2\"]"
      ]
     },
     "execution_count": 90,
     "metadata": {},
     "output_type": "execute_result"
    }
   ],
   "source": [
    "# J'affiche le nombre de valeur unique par clé\n",
    "def numberOfUniqueValues(listOfDict, listeKey=None):\n",
    "    \"\"\"\n",
    "    \n",
    "    \"\"\"\n",
    "    if listeKey:\n",
    "        listeKey = AllKey(listOfDict)\n",
    "    listre = []\n",
    "    for key in listeKey:\n",
    "        listre.append(f\"Nbre d'élément pour : {key}, {str(len(uniqueValues(listOfDict, key)))}\")\n",
    "    return listre\n",
    "numberOfUniqueValues(datastore)"
   ]
  },
  {
   "cell_type": "code",
   "execution_count": 89,
   "metadata": {},
   "outputs": [
    {
     "data": {
      "text/plain": [
       "['BELINA JOSSELYN',\n",
       " 'ENINO DU POMMEREUX',\n",
       " 'DIJON',\n",
       " 'VITRUVIO',\n",
       " 'BOLD EAGLE',\n",
       " 'BILLIE DE MONTFORT',\n",
       " 'EXCELLENT',\n",
       " 'RINGOSTARR TREB',\n",
       " 'DAVIDSON DU PONT',\n",
       " 'CARAT WILLIAMS',\n",
       " 'VIVID WISE AS',\n",
       " 'PROPULSION',\n",
       " 'CHICA DE JOUDES',\n",
       " \"ERMINIG D'OLIVERIE\",\n",
       " 'FACE TIME BOURBON',\n",
       " \"MILLIGAN'S SCHOOL\",\n",
       " 'LOOKING SUPERB',\n",
       " 'EARL SIMON',\n",
       " 'UZA JOSSELYN',\n",
       " 'BAHIA QUESNOT',\n",
       " 'DELIA DU POMMEREUX',\n",
       " 'TONY GIO']"
      ]
     },
     "execution_count": 89,
     "metadata": {},
     "output_type": "execute_result"
    }
   ],
   "source": [
    "def listification(listOfDict):\n",
    "    \"\"\"\n",
    "    \n",
    "    take : list of Dict\n",
    "    return : dict with as key as key and list of all unique values as value\n",
    "    \"\"\"\n",
    "    listOfKey = AllKey(listOfDict)\n",
    "    res = {}\n",
    "    \n",
    "    for key in listeKey:\n",
    "        #res[key] = list(set([x[key] for x in listOfDict if type(x[key]) in [int, str]]))\n",
    "        res[key] = uniqueValues(listOfDict, key)\n",
    "    return res\n",
    "\n",
    "listification(datastore)['Nom']"
   ]
  },
  {
   "cell_type": "markdown",
   "metadata": {},
   "source": [
    "## Neo4j "
   ]
  },
  {
   "cell_type": "code",
   "execution_count": 7,
   "metadata": {},
   "outputs": [],
   "source": [
    "# importation des packages py2neo\n",
    "from py2neo import Graph\n",
    "from py2neo.data import Node, Relationship"
   ]
  },
  {
   "cell_type": "markdown",
   "metadata": {},
   "source": [
    "### HORS SUJET TEST NEO4J SANDBOX"
   ]
  },
  {
   "cell_type": "code",
   "execution_count": 63,
   "metadata": {},
   "outputs": [],
   "source": [
    "# Connection à la database SandBox en ligne : https://sandbox.neo4j.com/\n",
    "uri= \"bolt://52.72.13.205:47799\"\n",
    "\n",
    "auth= (\"neo4j\", \"deserter-error-barriers\")\n",
    "\n",
    "graph = Graph(uri=uri, auth=auth)"
   ]
  },
  {
   "cell_type": "code",
   "execution_count": 64,
   "metadata": {
    "scrolled": true
   },
   "outputs": [
    {
     "data": {
      "text/html": [
       "<table><tr><th>movie</th><th>reviews</th></tr><tr><td style=\"text-align:left\">Matrix, The</td><td style=\"text-align:right\">259</td></tr><tr><td style=\"text-align:left\">Matrix Reloaded, The</td><td style=\"text-align:right\">82</td></tr><tr><td style=\"text-align:left\">Matrix Revolutions, The</td><td style=\"text-align:right\">54</td></tr></table>"
      ],
      "text/plain": [
       " movie                   | reviews \n",
       "-------------------------|---------\n",
       " Matrix, The             |     259 \n",
       " Matrix Reloaded, The    |      82 \n",
       " Matrix Revolutions, The |      54 "
      ]
     },
     "execution_count": 64,
     "metadata": {},
     "output_type": "execute_result"
    }
   ],
   "source": [
    "# Requête Cypher\n",
    "graph.run(\"\"\"MATCH (m:Movie)<-[:RATED]-(u:User)\n",
    "WHERE m.title CONTAINS \"Matrix\"\n",
    "WITH m.title AS movie, COUNT(*) AS reviews\n",
    "RETURN movie, reviews\n",
    "ORDER BY reviews DESC\n",
    "LIMIT 5;\"\"\").to_table()"
   ]
  },
  {
   "cell_type": "markdown",
   "metadata": {},
   "source": [
    "## BDD local "
   ]
  },
  {
   "cell_type": "code",
   "execution_count": 8,
   "metadata": {},
   "outputs": [],
   "source": [
    "# Connection à la database démaré en local\n",
    "uri= \"bolt://localhost:7687\"\n",
    "\n",
    "auth= (\"neo4j\", \"Toto\")\n",
    "\n",
    "graph = Graph(uri=uri, auth=auth)"
   ]
  },
  {
   "cell_type": "code",
   "execution_count": 117,
   "metadata": {},
   "outputs": [
    {
     "data": {
      "text/plain": [
       "<py2neo.matching.NodeMatch at 0x17654546988>"
      ]
     },
     "execution_count": 117,
     "metadata": {},
     "output_type": "execute_result"
    }
   ],
   "source": [
    "#from py2neo import Graph, NodeMatcher\n",
    "\n",
    "matcher = NodeMatcher(graph)\n",
    "\n",
    "matcher.match('Course', name= \"CHICA DE JOUDES\")"
   ]
  },
  {
   "cell_type": "code",
   "execution_count": 120,
   "metadata": {},
   "outputs": [
    {
     "data": {
      "text/plain": [
       "<py2neo.database.Cursor at 0x17654549e88>"
      ]
     },
     "execution_count": 120,
     "metadata": {},
     "output_type": "execute_result"
    }
   ],
   "source": [
    "graph.run(\"\"\"Match (n) return n \"\"\")"
   ]
  },
  {
   "cell_type": "code",
   "execution_count": null,
   "metadata": {},
   "outputs": [],
   "source": []
  },
  {
   "cell_type": "code",
   "execution_count": 127,
   "metadata": {},
   "outputs": [],
   "source": [
    "\n",
    "def formatToCreateNodesAndRelationship(listOfDict, KeyRelation = {\"Nom\": \"Cheval\", \"Course trackes\": \"course\"}):\n",
    "    nodes={}\n",
    "    relations={}\n",
    "    \n",
    "    for index, oneDict in enumerate(listOfDict):\n",
    "        for key, value in KeyRelation.items():\n",
    "            nodes[oneDict[key]] = Node(value, name=oneDict[key])\n",
    "            \n",
    "            relations[index] = [oneDict[\"Nom\"], oneDict[\"Course trackes\"]]\n",
    "            \n",
    "    return nodes, relations"
   ]
  },
  {
   "cell_type": "code",
   "execution_count": 131,
   "metadata": {},
   "outputs": [],
   "source": [
    "toto1, toto2 = formatToAdd(datastore)"
   ]
  },
  {
   "cell_type": "code",
   "execution_count": 135,
   "metadata": {
    "scrolled": true
   },
   "outputs": [
    {
     "data": {
      "text/plain": [
       "86"
      ]
     },
     "execution_count": 135,
     "metadata": {},
     "output_type": "execute_result"
    }
   ],
   "source": [
    "len(toto1)"
   ]
  },
  {
   "cell_type": "code",
   "execution_count": 121,
   "metadata": {},
   "outputs": [],
   "source": [
    "# \n",
    "nodes={}\n",
    "relations={}\n",
    "\n",
    "for index, x in enumerate(datastore):\n",
    "    nodes[x[\"Nom\"]]= Node(\"Cheval\", name=x[\"Nom\"])\n",
    "    \n",
    "    nodes[x[\"Course trackes\"]]= Node(\"course\", name=x[\"Course trackes\"], )\n",
    "    \n",
    "    relations[index]= [x[\"Nom\"],x[\"Course trackes\"]]"
   ]
  },
  {
   "cell_type": "code",
   "execution_count": 122,
   "metadata": {
    "scrolled": true
   },
   "outputs": [
    {
     "data": {
      "text/plain": [
       "{'DAVIDSON DU PONT': (:Cheval {name: 'DAVIDSON DU PONT'}),\n",
       " 'GRAND PRIX DE BELGIQUE': (:course {name: 'GRAND PRIX DE BELGIQUE'}),\n",
       " 'GRAND PRIX DE BOURGOGNE': (:course {name: 'GRAND PRIX DE BOURGOGNE'}),\n",
       " 'GRAND PRIX DU BOURBONNAIS': (:course {name: 'GRAND PRIX DU BOURBONNAIS'}),\n",
       " 'GD PX DE BRETAGNE - LA COURSE DES BLEUS': (:course {name: 'GD PX DE BRETAGNE - LA COURSE DES BLEUS'}),\n",
       " 'PRIX DES CEVENNES': (:course {name: 'PRIX DES CEVENNES'}),\n",
       " 'PRIX ISARA': (:course {name: 'PRIX ISARA'}),\n",
       " 'PRIX DE SELECTION': (:course {name: 'PRIX DE SELECTION'}),\n",
       " 'GRAND PRIX DE FRANCE': (:course {name: 'GRAND PRIX DE FRANCE'}),\n",
       " \"GRAND PRIX D'AMERIQUE\": (:course {name: \"GRAND PRIX D'AMERIQUE\"}),\n",
       " 'PRIX TENOR DE BAUNE': (:course {name: 'PRIX TENOR DE BAUNE'}),\n",
       " 'GRAND PRIX DE BRETAGNE': (:course {name: 'GRAND PRIX DE BRETAGNE'}),\n",
       " 'PRIX MARCEL LAURENT': (:course {name: 'PRIX MARCEL LAURENT'}),\n",
       " 'CHICA DE JOUDES': (:Cheval {name: 'CHICA DE JOUDES'}),\n",
       " 'PRIX DU FOREZ': (:course {name: 'PRIX DU FOREZ'}),\n",
       " 'PRIX DE BAR-LE-DUC': (:course {name: 'PRIX DE BAR-LE-DUC'}),\n",
       " 'PRIX JEAN DUMOUCH': (:course {name: 'PRIX JEAN DUMOUCH'}),\n",
       " 'PRIX DU LANGUEDOC': (:course {name: 'PRIX DU LANGUEDOC'}),\n",
       " 'GRAND PRIX DU PORTUGAL (PX OVIDIUS NASO)': (:course {name: 'GRAND PRIX DU PORTUGAL (PX OVIDIUS NASO)'}),\n",
       " 'PRIX ALETHEIA': (:course {name: 'PRIX ALETHEIA'}),\n",
       " 'PRIX JEAN RIAUD': (:course {name: 'PRIX JEAN RIAUD'}),\n",
       " 'PRIX JEAN CABROL': (:course {name: 'PRIX JEAN CABROL'}),\n",
       " 'PRIX EMILE ALLIX COURBOY': (:course {name: 'PRIX EMILE ALLIX COURBOY'}),\n",
       " 'PRIX 20 MINUTES (PRIX HELEN JOHANSSON)': (:course {name: 'PRIX 20 MINUTES (PRIX HELEN JOHANSSON)'}),\n",
       " 'PRIX DE GRANVILLE': (:course {name: 'PRIX DE GRANVILLE'}),\n",
       " 'PRIX DE SAINT-GEORGES DE DIDONNE': (:course {name: 'PRIX DE SAINT-GEORGES DE DIDONNE'}),\n",
       " 'LOOKING SUPERB': (:Cheval {name: 'LOOKING SUPERB'}),\n",
       " 'PRIX RENE BALLIERE': (:course {name: 'PRIX RENE BALLIERE'}),\n",
       " 'PRIX DU GATINAIS': (:course {name: 'PRIX DU GATINAIS'}),\n",
       " 'PRIX DU TREPORT': (:course {name: 'PRIX DU TREPORT'}),\n",
       " 'GRAND PRIX DE PARIS': (:course {name: 'GRAND PRIX DE PARIS'}),\n",
       " 'PRIX DE VIC SUR CERE': (:course {name: 'PRIX DE VIC SUR CERE'}),\n",
       " 'PRIX NARQUOIS': (:course {name: 'PRIX NARQUOIS'}),\n",
       " 'DELIA DU POMMEREUX': (:Cheval {name: 'DELIA DU POMMEREUX'}),\n",
       " 'PRIX CHAMBON P': (:course {name: 'PRIX CHAMBON P'}),\n",
       " 'PRIX KERJACQUES': (:course {name: 'PRIX KERJACQUES'}),\n",
       " 'BOLD EAGLE': (:Cheval {name: 'BOLD EAGLE'}),\n",
       " 'FINALE EUROPEAN TROTTING MASTERS 2019': (:course {name: 'FINALE EUROPEAN TROTTING MASTERS 2019'}),\n",
       " 'BILLIE DE MONTFORT': (:Cheval {name: 'BILLIE DE MONTFORT'}),\n",
       " 'FACE TIME BOURBON': (:Cheval {name: 'FACE TIME BOURBON'}),\n",
       " 'CRITERIUM CONTINENTAL': (:course {name: 'CRITERIUM CONTINENTAL'}),\n",
       " 'PRIX OCTAVE DOUESNEL': (:course {name: 'PRIX OCTAVE DOUESNEL'}),\n",
       " \"GRAND PRIX DE L'U.E.T. (Gr A)\": (:course {name: \"GRAND PRIX DE L'U.E.T. (Gr A)\"}),\n",
       " 'PRIX PHAETON': (:course {name: 'PRIX PHAETON'}),\n",
       " 'PX.ASSO SOS AUTISME FRANCE(CH.TIERCELIN)': (:course {name: 'PX.ASSO SOS AUTISME FRANCE(CH.TIERCELIN)'}),\n",
       " 'PRIX DE TONNAC-VILLENEUVE': (:course {name: 'PRIX DE TONNAC-VILLENEUVE'}),\n",
       " 'CRITERIUM DES 3 ANS': (:course {name: 'CRITERIUM DES 3 ANS'}),\n",
       " 'PRIX ABEL BASSIGNY': (:course {name: 'PRIX ABEL BASSIGNY'}),\n",
       " 'PRIX KURSE': (:course {name: 'PRIX KURSE'}),\n",
       " 'EXCELLENT': (:Cheval {name: 'EXCELLENT'}),\n",
       " 'PRIX DOYNEL DE SAINT-QUENTIN': (:course {name: 'PRIX DOYNEL DE SAINT-QUENTIN'}),\n",
       " \"PRIX DE L'ETOILE\": (:course {name: \"PRIX DE L'ETOILE\"}),\n",
       " 'CRITERIUM DES 5 ANS': (:course {name: 'CRITERIUM DES 5 ANS'}),\n",
       " 'PRIX JOCKEY': (:course {name: 'PRIX JOCKEY'}),\n",
       " 'PRIX LOUIS JARIEL': (:course {name: 'PRIX LOUIS JARIEL'}),\n",
       " 'PRIX ALBERT DEMARCQ': (:course {name: 'PRIX ALBERT DEMARCQ'}),\n",
       " 'PRIX HENRI LEVESQUE': (:course {name: 'PRIX HENRI LEVESQUE'}),\n",
       " 'PRIX ROBERT AUVRAY': (:course {name: 'PRIX ROBERT AUVRAY'}),\n",
       " 'PRIX DE CAHORS': (:course {name: 'PRIX DE CAHORS'}),\n",
       " 'PRIX DE MAURIAC': (:course {name: 'PRIX DE MAURIAC'}),\n",
       " 'PRIX DE CRESSERONS': (:course {name: 'PRIX DE CRESSERONS'}),\n",
       " 'PRIX DE JUSSY': (:course {name: 'PRIX DE JUSSY'}),\n",
       " 'PRIX MEBSUTA': (:course {name: 'PRIX MEBSUTA'}),\n",
       " 'BAHIA QUESNOT': (:Cheval {name: 'BAHIA QUESNOT'}),\n",
       " 'PRIX DE BLOIS': (:course {name: 'PRIX DE BLOIS'}),\n",
       " 'VIVID WISE AS': (:Cheval {name: 'VIVID WISE AS'}),\n",
       " 'PRIX DU LUXEMBOURG': (:course {name: 'PRIX DU LUXEMBOURG'}),\n",
       " 'PRIX DE CROIX': (:course {name: 'PRIX DE CROIX'}),\n",
       " 'PROPULSION': (:Cheval {name: 'PROPULSION'}),\n",
       " 'BELINA JOSSELYN': (:Cheval {name: 'BELINA JOSSELYN'}),\n",
       " 'PRIX MEDUSA': (:course {name: 'PRIX MEDUSA'}),\n",
       " 'RINGOSTARR TREB': (:Cheval {name: 'RINGOSTARR TREB'}),\n",
       " 'UZA JOSSELYN': (:Cheval {name: 'UZA JOSSELYN'}),\n",
       " 'ENINO DU POMMEREUX': (:Cheval {name: 'ENINO DU POMMEREUX'}),\n",
       " 'PRIX OVIDE MOULINET': (:course {name: 'PRIX OVIDE MOULINET'}),\n",
       " \"ERMINIG D'OLIVERIE\": (:Cheval {name: \"ERMINIG D'OLIVERIE\"}),\n",
       " 'PRIX JEAN LE GONIDEC': (:course {name: 'PRIX JEAN LE GONIDEC'}),\n",
       " 'PRIX ARISTE HEMARD': (:course {name: 'PRIX ARISTE HEMARD'}),\n",
       " 'VITRUVIO': (:Cheval {name: 'VITRUVIO'}),\n",
       " \"MILLIGAN'S SCHOOL\": (:Cheval {name: \"MILLIGAN'S SCHOOL\"}),\n",
       " 'CARAT WILLIAMS': (:Cheval {name: 'CARAT WILLIAMS'}),\n",
       " 'DIJON': (:Cheval {name: 'DIJON'}),\n",
       " 'TONY GIO': (:Cheval {name: 'TONY GIO'}),\n",
       " 'PRIX MISS AFRICA FRANCE (PX.DE LA MARNE)': (:course {name: 'PRIX MISS AFRICA FRANCE (PX.DE LA MARNE)'}),\n",
       " 'EARL SIMON': (:Cheval {name: 'EARL SIMON'}),\n",
       " 'LETROT OPEN DES REGIONS - 5 ANS': (:course {name: 'LETROT OPEN DES REGIONS - 5 ANS'})}"
      ]
     },
     "execution_count": 122,
     "metadata": {},
     "output_type": "execute_result"
    }
   ],
   "source": [
    "nodes"
   ]
  },
  {
   "cell_type": "code",
   "execution_count": 133,
   "metadata": {},
   "outputs": [
    {
     "data": {
      "text/plain": [
       "True"
      ]
     },
     "execution_count": 133,
     "metadata": {},
     "output_type": "execute_result"
    }
   ],
   "source": [
    "toto2 == relations"
   ]
  },
  {
   "cell_type": "code",
   "execution_count": 123,
   "metadata": {},
   "outputs": [
    {
     "data": {
      "text/plain": [
       "{0: ['DAVIDSON DU PONT', 'GRAND PRIX DE BELGIQUE'],\n",
       " 1: ['DAVIDSON DU PONT', 'GRAND PRIX DE BOURGOGNE'],\n",
       " 2: ['DAVIDSON DU PONT', 'GRAND PRIX DU BOURBONNAIS'],\n",
       " 3: ['DAVIDSON DU PONT', 'GD PX DE BRETAGNE - LA COURSE DES BLEUS'],\n",
       " 4: ['DAVIDSON DU PONT', 'PRIX DES CEVENNES'],\n",
       " 5: ['DAVIDSON DU PONT', 'PRIX ISARA'],\n",
       " 6: ['DAVIDSON DU PONT', 'PRIX DE SELECTION'],\n",
       " 7: ['DAVIDSON DU PONT', 'GRAND PRIX DE FRANCE'],\n",
       " 8: ['DAVIDSON DU PONT', \"GRAND PRIX D'AMERIQUE\"],\n",
       " 9: ['DAVIDSON DU PONT', 'GRAND PRIX DE BELGIQUE'],\n",
       " 10: ['DAVIDSON DU PONT', 'PRIX TENOR DE BAUNE'],\n",
       " 11: ['DAVIDSON DU PONT', 'GRAND PRIX DE BRETAGNE'],\n",
       " 12: ['DAVIDSON DU PONT', 'PRIX MARCEL LAURENT'],\n",
       " 13: ['CHICA DE JOUDES', 'PRIX DU FOREZ'],\n",
       " 14: ['CHICA DE JOUDES', 'PRIX DE BAR-LE-DUC'],\n",
       " 15: ['CHICA DE JOUDES', 'PRIX JEAN DUMOUCH'],\n",
       " 16: ['CHICA DE JOUDES', 'GD PX DE BRETAGNE - LA COURSE DES BLEUS'],\n",
       " 17: ['CHICA DE JOUDES', 'PRIX DU LANGUEDOC'],\n",
       " 18: ['CHICA DE JOUDES', 'GRAND PRIX DU PORTUGAL (PX OVIDIUS NASO)'],\n",
       " 19: ['CHICA DE JOUDES', 'PRIX ALETHEIA'],\n",
       " 20: ['CHICA DE JOUDES', 'PRIX JEAN RIAUD'],\n",
       " 21: ['CHICA DE JOUDES', 'PRIX JEAN CABROL'],\n",
       " 22: ['CHICA DE JOUDES', 'PRIX EMILE ALLIX COURBOY'],\n",
       " 23: ['CHICA DE JOUDES', 'PRIX 20 MINUTES (PRIX HELEN JOHANSSON)'],\n",
       " 24: ['CHICA DE JOUDES', 'PRIX DE GRANVILLE'],\n",
       " 25: ['CHICA DE JOUDES', 'PRIX DE BAR-LE-DUC'],\n",
       " 26: ['CHICA DE JOUDES', 'PRIX DE SAINT-GEORGES DE DIDONNE'],\n",
       " 27: ['LOOKING SUPERB', 'GRAND PRIX DE BELGIQUE'],\n",
       " 28: ['LOOKING SUPERB', 'GRAND PRIX DE BOURGOGNE'],\n",
       " 29: ['LOOKING SUPERB', 'PRIX JEAN DUMOUCH'],\n",
       " 30: ['LOOKING SUPERB', 'GRAND PRIX DU BOURBONNAIS'],\n",
       " 31: ['LOOKING SUPERB', 'GD PX DE BRETAGNE - LA COURSE DES BLEUS'],\n",
       " 32: ['LOOKING SUPERB', 'PRIX DES CEVENNES'],\n",
       " 33: ['LOOKING SUPERB', 'PRIX RENE BALLIERE'],\n",
       " 34: ['LOOKING SUPERB', 'PRIX DU GATINAIS'],\n",
       " 35: ['LOOKING SUPERB', 'PRIX DU TREPORT'],\n",
       " 36: ['LOOKING SUPERB', 'PRIX JEAN CABROL'],\n",
       " 37: ['LOOKING SUPERB', 'GRAND PRIX DE PARIS'],\n",
       " 38: ['LOOKING SUPERB', 'GRAND PRIX DE FRANCE'],\n",
       " 39: ['LOOKING SUPERB', \"GRAND PRIX D'AMERIQUE\"],\n",
       " 40: ['LOOKING SUPERB', 'PRIX DE VIC SUR CERE'],\n",
       " 41: ['LOOKING SUPERB', 'PRIX TENOR DE BAUNE'],\n",
       " 42: ['LOOKING SUPERB', 'PRIX NARQUOIS'],\n",
       " 43: ['DELIA DU POMMEREUX', 'GRAND PRIX DE BELGIQUE'],\n",
       " 44: ['DELIA DU POMMEREUX', 'GRAND PRIX DU BOURBONNAIS'],\n",
       " 45: ['DELIA DU POMMEREUX', 'GD PX DE BRETAGNE - LA COURSE DES BLEUS'],\n",
       " 46: ['DELIA DU POMMEREUX', 'PRIX ISARA'],\n",
       " 47: ['DELIA DU POMMEREUX', 'PRIX RENE BALLIERE'],\n",
       " 48: ['DELIA DU POMMEREUX', 'PRIX CHAMBON P'],\n",
       " 49: ['DELIA DU POMMEREUX', 'PRIX KERJACQUES'],\n",
       " 50: ['DELIA DU POMMEREUX', 'PRIX JEAN RIAUD'],\n",
       " 51: ['DELIA DU POMMEREUX', \"GRAND PRIX D'AMERIQUE\"],\n",
       " 52: ['DELIA DU POMMEREUX', 'GRAND PRIX DE BELGIQUE'],\n",
       " 53: ['DELIA DU POMMEREUX', 'PRIX TENOR DE BAUNE'],\n",
       " 54: ['DELIA DU POMMEREUX', 'GRAND PRIX DU BOURBONNAIS'],\n",
       " 55: ['DELIA DU POMMEREUX', 'GRAND PRIX DE BRETAGNE'],\n",
       " 56: ['DELIA DU POMMEREUX', 'PRIX MARCEL LAURENT'],\n",
       " 57: ['BOLD EAGLE', 'GRAND PRIX DE BOURGOGNE'],\n",
       " 58: ['BOLD EAGLE', 'GRAND PRIX DU BOURBONNAIS'],\n",
       " 59: ['BOLD EAGLE', 'FINALE EUROPEAN TROTTING MASTERS 2019'],\n",
       " 60: ['BOLD EAGLE', 'PRIX RENE BALLIERE'],\n",
       " 61: ['BOLD EAGLE', 'GRAND PRIX DE FRANCE'],\n",
       " 62: ['BOLD EAGLE', \"GRAND PRIX D'AMERIQUE\"],\n",
       " 63: ['BOLD EAGLE', 'GRAND PRIX DE BOURGOGNE'],\n",
       " 64: ['BOLD EAGLE', 'GRAND PRIX DU BOURBONNAIS'],\n",
       " 65: ['BOLD EAGLE', 'GRAND PRIX DE BRETAGNE'],\n",
       " 66: ['BILLIE DE MONTFORT', 'GRAND PRIX DE BOURGOGNE'],\n",
       " 67: ['BILLIE DE MONTFORT', 'GRAND PRIX DU BOURBONNAIS'],\n",
       " 68: ['BILLIE DE MONTFORT', 'PRIX RENE BALLIERE'],\n",
       " 69: ['BILLIE DE MONTFORT', 'GRAND PRIX DE FRANCE'],\n",
       " 70: ['BILLIE DE MONTFORT', \"GRAND PRIX D'AMERIQUE\"],\n",
       " 71: ['BILLIE DE MONTFORT', 'GRAND PRIX DE BELGIQUE'],\n",
       " 72: ['BILLIE DE MONTFORT', 'GRAND PRIX DE BOURGOGNE'],\n",
       " 73: ['FACE TIME BOURBON', 'CRITERIUM CONTINENTAL'],\n",
       " 74: ['FACE TIME BOURBON', 'PRIX OCTAVE DOUESNEL'],\n",
       " 75: ['FACE TIME BOURBON', \"GRAND PRIX DE L'U.E.T. (Gr A)\"],\n",
       " 76: ['FACE TIME BOURBON', 'PRIX PHAETON'],\n",
       " 77: ['FACE TIME BOURBON', 'PRIX DE SELECTION'],\n",
       " 78: ['FACE TIME BOURBON', 'PX.ASSO SOS AUTISME FRANCE(CH.TIERCELIN)'],\n",
       " 79: ['FACE TIME BOURBON', 'PRIX DE TONNAC-VILLENEUVE'],\n",
       " 80: ['FACE TIME BOURBON', 'CRITERIUM DES 3 ANS'],\n",
       " 81: ['FACE TIME BOURBON', 'PRIX ABEL BASSIGNY'],\n",
       " 82: ['FACE TIME BOURBON', 'PRIX KURSE'],\n",
       " 83: ['EXCELLENT', 'GRAND PRIX DE BELGIQUE'],\n",
       " 84: ['EXCELLENT', 'PRIX TENOR DE BAUNE'],\n",
       " 85: ['EXCELLENT', 'PRIX DOYNEL DE SAINT-QUENTIN'],\n",
       " 86: ['EXCELLENT', 'PRIX MARCEL LAURENT'],\n",
       " 87: ['EXCELLENT', \"PRIX DE L'ETOILE\"],\n",
       " 88: ['EXCELLENT', 'CRITERIUM DES 5 ANS'],\n",
       " 89: ['EXCELLENT', 'PRIX JOCKEY'],\n",
       " 90: ['EXCELLENT', 'PRIX LOUIS JARIEL'],\n",
       " 91: ['EXCELLENT', 'PRIX ALBERT DEMARCQ'],\n",
       " 92: ['EXCELLENT', 'PRIX HENRI LEVESQUE'],\n",
       " 93: ['EXCELLENT', 'PRIX ROBERT AUVRAY'],\n",
       " 94: ['EXCELLENT', 'PRIX DE CAHORS'],\n",
       " 95: ['EXCELLENT', 'PRIX DE MAURIAC'],\n",
       " 96: ['EXCELLENT', 'PRIX DE CRESSERONS'],\n",
       " 97: ['EXCELLENT', 'PRIX DE JUSSY'],\n",
       " 98: ['EXCELLENT', 'PRIX MEBSUTA'],\n",
       " 99: ['BAHIA QUESNOT', 'GRAND PRIX DE BOURGOGNE'],\n",
       " 100: ['BAHIA QUESNOT', 'GRAND PRIX DU BOURBONNAIS'],\n",
       " 101: ['BAHIA QUESNOT', 'GD PX DE BRETAGNE - LA COURSE DES BLEUS'],\n",
       " 102: ['BAHIA QUESNOT', 'PRIX DES CEVENNES'],\n",
       " 103: ['BAHIA QUESNOT', 'FINALE EUROPEAN TROTTING MASTERS 2019'],\n",
       " 104: ['BAHIA QUESNOT', 'GRAND PRIX DE PARIS'],\n",
       " 105: ['BAHIA QUESNOT', \"GRAND PRIX D'AMERIQUE\"],\n",
       " 106: ['BAHIA QUESNOT', 'GRAND PRIX DE BELGIQUE'],\n",
       " 107: ['BAHIA QUESNOT', 'PRIX JEAN DUMOUCH'],\n",
       " 108: ['BAHIA QUESNOT', 'PRIX DE BLOIS'],\n",
       " 109: ['VIVID WISE AS', 'GRAND PRIX DE BOURGOGNE'],\n",
       " 110: ['VIVID WISE AS', 'PRIX TENOR DE BAUNE'],\n",
       " 111: ['VIVID WISE AS', 'PRIX MARCEL LAURENT'],\n",
       " 112: ['VIVID WISE AS', 'PRIX DU LUXEMBOURG'],\n",
       " 113: ['VIVID WISE AS', 'PRIX DE CROIX'],\n",
       " 114: ['VIVID WISE AS', 'CRITERIUM CONTINENTAL'],\n",
       " 115: ['VIVID WISE AS', 'PRIX MARCEL LAURENT'],\n",
       " 116: ['PROPULSION', 'FINALE EUROPEAN TROTTING MASTERS 2019'],\n",
       " 117: ['PROPULSION', \"GRAND PRIX D'AMERIQUE\"],\n",
       " 118: ['BELINA JOSSELYN', 'GRAND PRIX DE BELGIQUE'],\n",
       " 119: ['BELINA JOSSELYN', 'GRAND PRIX DE BOURGOGNE'],\n",
       " 120: ['BELINA JOSSELYN', 'GRAND PRIX DU BOURBONNAIS'],\n",
       " 121: ['BELINA JOSSELYN', 'GD PX DE BRETAGNE - LA COURSE DES BLEUS'],\n",
       " 122: ['BELINA JOSSELYN', 'PRIX MEDUSA'],\n",
       " 123: ['BELINA JOSSELYN', 'PRIX ISARA'],\n",
       " 124: ['BELINA JOSSELYN', 'GRAND PRIX DE PARIS'],\n",
       " 125: ['BELINA JOSSELYN', 'GRAND PRIX DE FRANCE'],\n",
       " 126: ['BELINA JOSSELYN', \"GRAND PRIX D'AMERIQUE\"],\n",
       " 127: ['BELINA JOSSELYN', 'GRAND PRIX DE BELGIQUE'],\n",
       " 128: ['BELINA JOSSELYN', 'GRAND PRIX DE BOURGOGNE'],\n",
       " 129: ['BELINA JOSSELYN', 'GRAND PRIX DU BOURBONNAIS'],\n",
       " 130: ['BELINA JOSSELYN', 'GRAND PRIX DE BRETAGNE'],\n",
       " 131: ['RINGOSTARR TREB', 'GRAND PRIX DE BOURGOGNE'],\n",
       " 132: ['UZA JOSSELYN', 'GRAND PRIX DE BELGIQUE'],\n",
       " 133: ['UZA JOSSELYN', 'GRAND PRIX DE BOURGOGNE'],\n",
       " 134: ['UZA JOSSELYN', 'GRAND PRIX DU BOURBONNAIS'],\n",
       " 135: ['UZA JOSSELYN', 'PRIX KERJACQUES'],\n",
       " 136: ['UZA JOSSELYN', 'GRAND PRIX DE PARIS'],\n",
       " 137: ['UZA JOSSELYN', 'GRAND PRIX DE FRANCE'],\n",
       " 138: ['UZA JOSSELYN', \"GRAND PRIX D'AMERIQUE\"],\n",
       " 139: ['UZA JOSSELYN', 'GRAND PRIX DE BELGIQUE'],\n",
       " 140: ['UZA JOSSELYN', 'GRAND PRIX DE BOURGOGNE'],\n",
       " 141: ['UZA JOSSELYN', 'GRAND PRIX DU BOURBONNAIS'],\n",
       " 142: ['UZA JOSSELYN', 'GRAND PRIX DE BRETAGNE'],\n",
       " 143: ['UZA JOSSELYN', 'PRIX DES CEVENNES'],\n",
       " 144: ['ENINO DU POMMEREUX', 'GRAND PRIX DE BELGIQUE'],\n",
       " 145: ['ENINO DU POMMEREUX', 'PRIX TENOR DE BAUNE'],\n",
       " 146: ['ENINO DU POMMEREUX', 'GRAND PRIX DU BOURBONNAIS'],\n",
       " 147: ['ENINO DU POMMEREUX', 'GD PX DE BRETAGNE - LA COURSE DES BLEUS'],\n",
       " 148: ['ENINO DU POMMEREUX', 'PRIX MARCEL LAURENT'],\n",
       " 149: ['ENINO DU POMMEREUX', 'CRITERIUM DES 5 ANS'],\n",
       " 150: ['ENINO DU POMMEREUX', 'PRIX JOCKEY'],\n",
       " 151: ['ENINO DU POMMEREUX', 'PRIX LOUIS JARIEL'],\n",
       " 152: ['ENINO DU POMMEREUX', 'PRIX ALBERT DEMARCQ'],\n",
       " 153: ['ENINO DU POMMEREUX', 'PRIX HENRI LEVESQUE'],\n",
       " 154: ['ENINO DU POMMEREUX', 'PRIX ROBERT AUVRAY'],\n",
       " 155: ['ENINO DU POMMEREUX', 'PRIX DE SELECTION'],\n",
       " 156: ['ENINO DU POMMEREUX', 'PRIX OVIDE MOULINET'],\n",
       " 157: ['ENINO DU POMMEREUX', 'PRIX DE CROIX'],\n",
       " 158: ['ENINO DU POMMEREUX', 'PRIX MARCEL LAURENT'],\n",
       " 159: [\"ERMINIG D'OLIVERIE\", 'GRAND PRIX DE BELGIQUE'],\n",
       " 160: [\"ERMINIG D'OLIVERIE\", 'GRAND PRIX DE BOURGOGNE'],\n",
       " 161: [\"ERMINIG D'OLIVERIE\", 'PRIX TENOR DE BAUNE'],\n",
       " 162: [\"ERMINIG D'OLIVERIE\", 'GRAND PRIX DU BOURBONNAIS'],\n",
       " 163: [\"ERMINIG D'OLIVERIE\", 'CRITERIUM DES 5 ANS'],\n",
       " 164: [\"ERMINIG D'OLIVERIE\", 'PRIX JOCKEY'],\n",
       " 165: [\"ERMINIG D'OLIVERIE\", 'PRIX JEAN LE GONIDEC'],\n",
       " 166: [\"ERMINIG D'OLIVERIE\", 'PRIX DE CROIX'],\n",
       " 167: [\"ERMINIG D'OLIVERIE\", 'CRITERIUM CONTINENTAL'],\n",
       " 168: [\"ERMINIG D'OLIVERIE\", 'PRIX ARISTE HEMARD'],\n",
       " 169: [\"ERMINIG D'OLIVERIE\", 'PRIX MARCEL LAURENT'],\n",
       " 170: ['VITRUVIO', 'PRIX TENOR DE BAUNE'],\n",
       " 171: ['VITRUVIO', 'GRAND PRIX DU BOURBONNAIS'],\n",
       " 172: ['VITRUVIO', 'PRIX MARCEL LAURENT'],\n",
       " 173: ['VITRUVIO', 'CRITERIUM CONTINENTAL'],\n",
       " 174: ['VITRUVIO', 'PRIX MARCEL LAURENT'],\n",
       " 175: [\"MILLIGAN'S SCHOOL\", 'FINALE EUROPEAN TROTTING MASTERS 2019'],\n",
       " 176: ['CARAT WILLIAMS', 'GRAND PRIX DE BELGIQUE'],\n",
       " 177: ['CARAT WILLIAMS', 'GRAND PRIX DE BOURGOGNE'],\n",
       " 178: ['CARAT WILLIAMS', 'GRAND PRIX DU BOURBONNAIS'],\n",
       " 179: ['CARAT WILLIAMS', 'PRIX DES CEVENNES'],\n",
       " 180: ['CARAT WILLIAMS', 'PRIX ISARA'],\n",
       " 181: ['CARAT WILLIAMS', 'PRIX RENE BALLIERE'],\n",
       " 182: ['CARAT WILLIAMS', 'PRIX CHAMBON P'],\n",
       " 183: ['CARAT WILLIAMS', 'PRIX KERJACQUES'],\n",
       " 184: ['CARAT WILLIAMS', 'GRAND PRIX DE PARIS'],\n",
       " 185: ['CARAT WILLIAMS', \"GRAND PRIX D'AMERIQUE\"],\n",
       " 186: ['CARAT WILLIAMS', 'GRAND PRIX DE BELGIQUE'],\n",
       " 187: ['CARAT WILLIAMS', 'GRAND PRIX DE BOURGOGNE'],\n",
       " 188: ['CARAT WILLIAMS', 'GRAND PRIX DU BOURBONNAIS'],\n",
       " 189: ['CARAT WILLIAMS', 'GRAND PRIX DE BRETAGNE'],\n",
       " 190: ['CARAT WILLIAMS', 'PRIX DES CEVENNES'],\n",
       " 191: ['DIJON', 'GRAND PRIX DE BELGIQUE'],\n",
       " 192: ['DIJON', 'PRIX RENE BALLIERE'],\n",
       " 193: ['DIJON', 'GRAND PRIX DE FRANCE'],\n",
       " 194: ['DIJON', 'PRIX DU LUXEMBOURG'],\n",
       " 195: ['DIJON', 'GRAND PRIX DE BOURGOGNE'],\n",
       " 196: ['TONY GIO', 'GRAND PRIX DE BELGIQUE'],\n",
       " 197: ['TONY GIO', 'GRAND PRIX DU BOURBONNAIS'],\n",
       " 198: ['TONY GIO', 'GD PX DE BRETAGNE - LA COURSE DES BLEUS'],\n",
       " 199: ['TONY GIO', 'PRIX DES CEVENNES'],\n",
       " 200: ['TONY GIO', 'FINALE EUROPEAN TROTTING MASTERS 2019'],\n",
       " 201: ['TONY GIO', 'PRIX RENE BALLIERE'],\n",
       " 202: ['TONY GIO', 'PRIX CHAMBON P'],\n",
       " 203: ['TONY GIO', 'PRIX JEAN RIAUD'],\n",
       " 204: ['TONY GIO', 'GRAND PRIX DE PARIS'],\n",
       " 205: ['TONY GIO', 'PRIX MISS AFRICA FRANCE (PX.DE LA MARNE)'],\n",
       " 206: ['TONY GIO', 'GRAND PRIX DE BRETAGNE'],\n",
       " 207: ['TONY GIO', 'PRIX DES CEVENNES'],\n",
       " 208: ['EARL SIMON', 'LETROT OPEN DES REGIONS - 5 ANS'],\n",
       " 209: ['EARL SIMON', 'CRITERIUM DES 5 ANS'],\n",
       " 210: ['EARL SIMON', 'PRIX JOCKEY'],\n",
       " 211: ['EARL SIMON', 'PRIX DE SELECTION'],\n",
       " 212: ['EARL SIMON', 'PRIX OVIDE MOULINET'],\n",
       " 213: ['EARL SIMON', 'CRITERIUM CONTINENTAL'],\n",
       " 214: ['EARL SIMON', 'PRIX OCTAVE DOUESNEL'],\n",
       " 215: ['EARL SIMON', 'PRIX MARCEL LAURENT']}"
      ]
     },
     "execution_count": 123,
     "metadata": {},
     "output_type": "execute_result"
    }
   ],
   "source": [
    "relations"
   ]
  },
  {
   "cell_type": "code",
   "execution_count": null,
   "metadata": {
    "scrolled": false
   },
   "outputs": [],
   "source": [
    "# create nodes\n",
    "for add in list(nodes.values()):\n",
    "    graph.create(add)"
   ]
  },
  {
   "cell_type": "code",
   "execution_count": 42,
   "metadata": {
    "scrolled": true
   },
   "outputs": [
    {
     "data": {
      "text/plain": [
       "' match (a:Cheval {name:\"LOOKING SUPERB\"}) match (b:course {name:\"GRAND PRIX DE PARIS\"}) merge (a)-[:aParticiperA]->(b)'"
      ]
     },
     "execution_count": 42,
     "metadata": {},
     "output_type": "execute_result"
    }
   ],
   "source": [
    "def createRelationShip(name1, name2, relationType, nodeName1=\"Cheval\" , nodeName2=\"course\"):\n",
    "    \n",
    "    return f\"\"\" match (a:{nodeName1} {{name:\"{name1}\"}}) match (b:{nodeName2} {{name:\"{name2}\"}}) merge (a)-[:{relationType}]->(b)\"\"\"\n",
    "\n",
    "createRelationShip(\"LOOKING SUPERB\", \"GRAND PRIX DE PARIS\", \"aParticiperA\")"
   ]
  },
  {
   "cell_type": "code",
   "execution_count": 45,
   "metadata": {},
   "outputs": [],
   "source": [
    "# create relationship\n",
    "for relation in list(relations.values()):\n",
    "    graph.run(createRelationShip(relation[0], relation[1], \"aParticiperA\"))"
   ]
  },
  {
   "cell_type": "code",
   "execution_count": null,
   "metadata": {},
   "outputs": [],
   "source": [
    "a = Node('Personne', name='Sophie')\n",
    "b =  Node('Personne', name='Loic')"
   ]
  },
  {
   "cell_type": "code",
   "execution_count": null,
   "metadata": {},
   "outputs": [],
   "source": [
    "Relationship(a, b, \"Friends\")"
   ]
  },
  {
   "cell_type": "code",
   "execution_count": null,
   "metadata": {},
   "outputs": [],
   "source": []
  },
  {
   "cell_type": "code",
   "execution_count": null,
   "metadata": {},
   "outputs": [],
   "source": []
  },
  {
   "cell_type": "code",
   "execution_count": null,
   "metadata": {},
   "outputs": [],
   "source": []
  },
  {
   "cell_type": "code",
   "execution_count": null,
   "metadata": {},
   "outputs": [],
   "source": []
  },
  {
   "cell_type": "code",
   "execution_count": 4,
   "metadata": {},
   "outputs": [],
   "source": [
    "def createNodes(NodeName, listName):\n",
    "    requestA = \"MERGE \"\n",
    "    for Name in listName:\n",
    "        requestA += f\"(:{NodeName} {{ name: \\\"{Name}\\\"}})\" + \",\"\n",
    "        \n",
    "    return requestA[:-1]"
   ]
  },
  {
   "cell_type": "code",
   "execution_count": 5,
   "metadata": {},
   "outputs": [
    {
     "ename": "NameError",
     "evalue": "name 'createFormat' is not defined",
     "output_type": "error",
     "traceback": [
      "\u001b[1;31m---------------------------------------------------------------------------\u001b[0m",
      "\u001b[1;31mNameError\u001b[0m                                 Traceback (most recent call last)",
      "\u001b[1;32m<ipython-input-5-5a169d9ca6bd>\u001b[0m in \u001b[0;36m<module>\u001b[1;34m\u001b[0m\n\u001b[1;32m----> 1\u001b[1;33m \u001b[0mcreateFormat\u001b[0m\u001b[1;33m(\u001b[0m\u001b[1;34m\"courseTrack\"\u001b[0m\u001b[1;33m,\u001b[0m \u001b[0mcoursesTrackList\u001b[0m\u001b[1;33m)\u001b[0m\u001b[1;33m\u001b[0m\u001b[1;33m\u001b[0m\u001b[0m\n\u001b[0m",
      "\u001b[1;31mNameError\u001b[0m: name 'createFormat' is not defined"
     ]
    }
   ],
   "source": [
    "createFormat(\"courseTrack\", coursesTrackList)"
   ]
  },
  {
   "cell_type": "code",
   "execution_count": 100,
   "metadata": {},
   "outputs": [
    {
     "data": {
      "text/plain": [
       "<py2neo.database.Cursor at 0x1470dcc7d48>"
      ]
     },
     "execution_count": 100,
     "metadata": {},
     "output_type": "execute_result"
    }
   ],
   "source": [
    "graph.run(createFormat(\"courseTrack\", coursesTrackList))"
   ]
  }
 ],
 "metadata": {
  "kernelspec": {
   "display_name": "Python 3",
   "language": "python",
   "name": "python3"
  },
  "language_info": {
   "codemirror_mode": {
    "name": "ipython",
    "version": 3
   },
   "file_extension": ".py",
   "mimetype": "text/x-python",
   "name": "python",
   "nbconvert_exporter": "python",
   "pygments_lexer": "ipython3",
   "version": "3.7.6"
  }
 },
 "nbformat": 4,
 "nbformat_minor": 2
}
